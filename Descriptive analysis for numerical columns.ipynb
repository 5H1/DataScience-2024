{
 "cells": [
  {
   "cell_type": "code",
   "execution_count": 1,
   "id": "78063c2c-b1d2-4f2d-b906-582312671ffa",
   "metadata": {},
   "outputs": [],
   "source": [
    "#step 1 importing pandas\n",
    "import pandas as pd"
   ]
  },
  {
   "cell_type": "code",
   "execution_count": 3,
   "id": "208f5db4-3c9b-4f5c-ab19-4da8fe027a4a",
   "metadata": {},
   "outputs": [
    {
     "data": {
      "text/html": [
       "<div>\n",
       "<style scoped>\n",
       "    .dataframe tbody tr th:only-of-type {\n",
       "        vertical-align: middle;\n",
       "    }\n",
       "\n",
       "    .dataframe tbody tr th {\n",
       "        vertical-align: top;\n",
       "    }\n",
       "\n",
       "    .dataframe thead th {\n",
       "        text-align: right;\n",
       "    }\n",
       "</style>\n",
       "<table border=\"1\" class=\"dataframe\">\n",
       "  <thead>\n",
       "    <tr style=\"text-align: right;\">\n",
       "      <th></th>\n",
       "      <th>Date</th>\n",
       "      <th>Day</th>\n",
       "      <th>SKU</th>\n",
       "      <th>City</th>\n",
       "      <th>Volume</th>\n",
       "      <th>BU</th>\n",
       "      <th>Brand</th>\n",
       "      <th>Model</th>\n",
       "      <th>Avg Price</th>\n",
       "      <th>Total Sales Value</th>\n",
       "      <th>Discount Rate (%)</th>\n",
       "      <th>Discount Amount</th>\n",
       "      <th>Net Sales Value</th>\n",
       "    </tr>\n",
       "  </thead>\n",
       "  <tbody>\n",
       "    <tr>\n",
       "      <th>0</th>\n",
       "      <td>01-04-2021</td>\n",
       "      <td>Thursday</td>\n",
       "      <td>M01</td>\n",
       "      <td>C</td>\n",
       "      <td>15</td>\n",
       "      <td>Mobiles</td>\n",
       "      <td>RealU</td>\n",
       "      <td>RU-10</td>\n",
       "      <td>12100</td>\n",
       "      <td>181500</td>\n",
       "      <td>11.654820</td>\n",
       "      <td>21153.498820</td>\n",
       "      <td>160346.501180</td>\n",
       "    </tr>\n",
       "    <tr>\n",
       "      <th>1</th>\n",
       "      <td>01-04-2021</td>\n",
       "      <td>Thursday</td>\n",
       "      <td>M02</td>\n",
       "      <td>C</td>\n",
       "      <td>10</td>\n",
       "      <td>Mobiles</td>\n",
       "      <td>RealU</td>\n",
       "      <td>RU-9 Plus</td>\n",
       "      <td>10100</td>\n",
       "      <td>101000</td>\n",
       "      <td>11.560498</td>\n",
       "      <td>11676.102961</td>\n",
       "      <td>89323.897039</td>\n",
       "    </tr>\n",
       "    <tr>\n",
       "      <th>2</th>\n",
       "      <td>01-04-2021</td>\n",
       "      <td>Thursday</td>\n",
       "      <td>M03</td>\n",
       "      <td>C</td>\n",
       "      <td>7</td>\n",
       "      <td>Mobiles</td>\n",
       "      <td>YouM</td>\n",
       "      <td>YM-99</td>\n",
       "      <td>16100</td>\n",
       "      <td>112700</td>\n",
       "      <td>9.456886</td>\n",
       "      <td>10657.910157</td>\n",
       "      <td>102042.089843</td>\n",
       "    </tr>\n",
       "    <tr>\n",
       "      <th>3</th>\n",
       "      <td>01-04-2021</td>\n",
       "      <td>Thursday</td>\n",
       "      <td>M04</td>\n",
       "      <td>C</td>\n",
       "      <td>6</td>\n",
       "      <td>Mobiles</td>\n",
       "      <td>YouM</td>\n",
       "      <td>YM-99 Plus</td>\n",
       "      <td>20100</td>\n",
       "      <td>120600</td>\n",
       "      <td>6.935385</td>\n",
       "      <td>8364.074702</td>\n",
       "      <td>112235.925298</td>\n",
       "    </tr>\n",
       "    <tr>\n",
       "      <th>4</th>\n",
       "      <td>01-04-2021</td>\n",
       "      <td>Thursday</td>\n",
       "      <td>M05</td>\n",
       "      <td>C</td>\n",
       "      <td>3</td>\n",
       "      <td>Mobiles</td>\n",
       "      <td>YouM</td>\n",
       "      <td>YM-98</td>\n",
       "      <td>8100</td>\n",
       "      <td>24300</td>\n",
       "      <td>17.995663</td>\n",
       "      <td>4372.946230</td>\n",
       "      <td>19927.053770</td>\n",
       "    </tr>\n",
       "    <tr>\n",
       "      <th>...</th>\n",
       "      <td>...</td>\n",
       "      <td>...</td>\n",
       "      <td>...</td>\n",
       "      <td>...</td>\n",
       "      <td>...</td>\n",
       "      <td>...</td>\n",
       "      <td>...</td>\n",
       "      <td>...</td>\n",
       "      <td>...</td>\n",
       "      <td>...</td>\n",
       "      <td>...</td>\n",
       "      <td>...</td>\n",
       "      <td>...</td>\n",
       "    </tr>\n",
       "    <tr>\n",
       "      <th>445</th>\n",
       "      <td>15-04-2021</td>\n",
       "      <td>Thursday</td>\n",
       "      <td>L06</td>\n",
       "      <td>C</td>\n",
       "      <td>2</td>\n",
       "      <td>Lifestyle</td>\n",
       "      <td>Jeera</td>\n",
       "      <td>M-Casuals</td>\n",
       "      <td>1300</td>\n",
       "      <td>2600</td>\n",
       "      <td>15.475687</td>\n",
       "      <td>402.367873</td>\n",
       "      <td>2197.632127</td>\n",
       "    </tr>\n",
       "    <tr>\n",
       "      <th>446</th>\n",
       "      <td>15-04-2021</td>\n",
       "      <td>Thursday</td>\n",
       "      <td>L07</td>\n",
       "      <td>C</td>\n",
       "      <td>6</td>\n",
       "      <td>Lifestyle</td>\n",
       "      <td>Viva</td>\n",
       "      <td>W-Western</td>\n",
       "      <td>2600</td>\n",
       "      <td>15600</td>\n",
       "      <td>17.057027</td>\n",
       "      <td>2660.896242</td>\n",
       "      <td>12939.103758</td>\n",
       "    </tr>\n",
       "    <tr>\n",
       "      <th>447</th>\n",
       "      <td>15-04-2021</td>\n",
       "      <td>Thursday</td>\n",
       "      <td>L08</td>\n",
       "      <td>C</td>\n",
       "      <td>2</td>\n",
       "      <td>Lifestyle</td>\n",
       "      <td>Viva</td>\n",
       "      <td>W-Lounge</td>\n",
       "      <td>1600</td>\n",
       "      <td>3200</td>\n",
       "      <td>18.965550</td>\n",
       "      <td>606.897606</td>\n",
       "      <td>2593.102394</td>\n",
       "    </tr>\n",
       "    <tr>\n",
       "      <th>448</th>\n",
       "      <td>15-04-2021</td>\n",
       "      <td>Thursday</td>\n",
       "      <td>L09</td>\n",
       "      <td>C</td>\n",
       "      <td>3</td>\n",
       "      <td>Lifestyle</td>\n",
       "      <td>Jeera</td>\n",
       "      <td>M-Formals</td>\n",
       "      <td>1900</td>\n",
       "      <td>5700</td>\n",
       "      <td>16.793014</td>\n",
       "      <td>957.201826</td>\n",
       "      <td>4742.798174</td>\n",
       "    </tr>\n",
       "    <tr>\n",
       "      <th>449</th>\n",
       "      <td>15-04-2021</td>\n",
       "      <td>Thursday</td>\n",
       "      <td>L10</td>\n",
       "      <td>C</td>\n",
       "      <td>1</td>\n",
       "      <td>Lifestyle</td>\n",
       "      <td>Jeera</td>\n",
       "      <td>M-Shoes</td>\n",
       "      <td>3100</td>\n",
       "      <td>3100</td>\n",
       "      <td>15.333300</td>\n",
       "      <td>475.332295</td>\n",
       "      <td>2624.667705</td>\n",
       "    </tr>\n",
       "  </tbody>\n",
       "</table>\n",
       "<p>450 rows × 13 columns</p>\n",
       "</div>"
      ],
      "text/plain": [
       "           Date       Day  SKU City  Volume         BU  Brand       Model  \\\n",
       "0    01-04-2021  Thursday  M01    C      15    Mobiles  RealU       RU-10   \n",
       "1    01-04-2021  Thursday  M02    C      10    Mobiles  RealU   RU-9 Plus   \n",
       "2    01-04-2021  Thursday  M03    C       7    Mobiles   YouM       YM-99   \n",
       "3    01-04-2021  Thursday  M04    C       6    Mobiles   YouM  YM-99 Plus   \n",
       "4    01-04-2021  Thursday  M05    C       3    Mobiles   YouM      YM-98    \n",
       "..          ...       ...  ...  ...     ...        ...    ...         ...   \n",
       "445  15-04-2021  Thursday  L06    C       2  Lifestyle  Jeera   M-Casuals   \n",
       "446  15-04-2021  Thursday  L07    C       6  Lifestyle   Viva   W-Western   \n",
       "447  15-04-2021  Thursday  L08    C       2  Lifestyle   Viva    W-Lounge   \n",
       "448  15-04-2021  Thursday  L09    C       3  Lifestyle  Jeera   M-Formals   \n",
       "449  15-04-2021  Thursday  L10    C       1  Lifestyle  Jeera     M-Shoes   \n",
       "\n",
       "     Avg Price  Total Sales Value  Discount Rate (%)  Discount Amount  \\\n",
       "0        12100             181500          11.654820     21153.498820   \n",
       "1        10100             101000          11.560498     11676.102961   \n",
       "2        16100             112700           9.456886     10657.910157   \n",
       "3        20100             120600           6.935385      8364.074702   \n",
       "4         8100              24300          17.995663      4372.946230   \n",
       "..         ...                ...                ...              ...   \n",
       "445       1300               2600          15.475687       402.367873   \n",
       "446       2600              15600          17.057027      2660.896242   \n",
       "447       1600               3200          18.965550       606.897606   \n",
       "448       1900               5700          16.793014       957.201826   \n",
       "449       3100               3100          15.333300       475.332295   \n",
       "\n",
       "     Net Sales Value  \n",
       "0      160346.501180  \n",
       "1       89323.897039  \n",
       "2      102042.089843  \n",
       "3      112235.925298  \n",
       "4       19927.053770  \n",
       "..               ...  \n",
       "445      2197.632127  \n",
       "446     12939.103758  \n",
       "447      2593.102394  \n",
       "448      4742.798174  \n",
       "449      2624.667705  \n",
       "\n",
       "[450 rows x 13 columns]"
      ]
     },
     "execution_count": 3,
     "metadata": {},
     "output_type": "execute_result"
    }
   ],
   "source": [
    "#step 2: loading data set using pandas\n",
    "df=pd.read_csv(\"sales_data_with_discounts.csv\")\n",
    "df"
   ]
  },
  {
   "cell_type": "code",
   "execution_count": 1,
   "id": "84ff9b89-25ef-4af6-8a93-1303898e09ae",
   "metadata": {},
   "outputs": [],
   "source": [
    "#step 3: identifying numerical columns in the data set"
   ]
  },
  {
   "cell_type": "code",
   "execution_count": 25,
   "id": "da5cce25-3c6b-4c07-9278-2a850b4eb3ef",
   "metadata": {},
   "outputs": [],
   "source": [
    "cols=df.select_dtypes(include='number')\n"
   ]
  },
  {
   "cell_type": "code",
   "execution_count": 26,
   "id": "d4cf8af9-d7c2-4038-b55f-21abbebfaec6",
   "metadata": {},
   "outputs": [
    {
     "name": "stdout",
     "output_type": "stream",
     "text": [
      "     Volume  Avg Price  Total Sales Value  Discount Rate (%)  Discount Amount  \\\n",
      "0        15      12100             181500          11.654820     21153.498820   \n",
      "1        10      10100             101000          11.560498     11676.102961   \n",
      "2         7      16100             112700           9.456886     10657.910157   \n",
      "3         6      20100             120600           6.935385      8364.074702   \n",
      "4         3       8100              24300          17.995663      4372.946230   \n",
      "..      ...        ...                ...                ...              ...   \n",
      "445       2       1300               2600          15.475687       402.367873   \n",
      "446       6       2600              15600          17.057027      2660.896242   \n",
      "447       2       1600               3200          18.965550       606.897606   \n",
      "448       3       1900               5700          16.793014       957.201826   \n",
      "449       1       3100               3100          15.333300       475.332295   \n",
      "\n",
      "     Net Sales Value  \n",
      "0      160346.501180  \n",
      "1       89323.897039  \n",
      "2      102042.089843  \n",
      "3      112235.925298  \n",
      "4       19927.053770  \n",
      "..               ...  \n",
      "445      2197.632127  \n",
      "446     12939.103758  \n",
      "447      2593.102394  \n",
      "448      4742.798174  \n",
      "449      2624.667705  \n",
      "\n",
      "[450 rows x 6 columns]\n"
     ]
    }
   ],
   "source": [
    "print(cols)"
   ]
  },
  {
   "cell_type": "code",
   "execution_count": 31,
   "id": "b14fb9dd-fb15-4208-ad12-2f8a4fbea0c3",
   "metadata": {},
   "outputs": [],
   "source": [
    "#step 4 : calculating mean,median,mode and standard deviation for numerical columns\n"
   ]
  },
  {
   "cell_type": "code",
   "execution_count": 27,
   "id": "277f497d-480a-42fa-87b9-370a1bb4009b",
   "metadata": {},
   "outputs": [
    {
     "data": {
      "text/plain": [
       "0      15\n",
       "1      10\n",
       "2       7\n",
       "3       6\n",
       "4       3\n",
       "       ..\n",
       "445     2\n",
       "446     6\n",
       "447     2\n",
       "448     3\n",
       "449     1\n",
       "Name: Volume, Length: 450, dtype: int64"
      ]
     },
     "execution_count": 27,
     "metadata": {},
     "output_type": "execute_result"
    }
   ],
   "source": [
    "#step 4 a: Calculating metrics for Volume column\n",
    "df['Volume']"
   ]
  },
  {
   "cell_type": "code",
   "execution_count": 25,
   "id": "5df4e9d1-da60-417b-bebb-8706c909cdce",
   "metadata": {},
   "outputs": [
    {
     "name": "stdout",
     "output_type": "stream",
     "text": [
      "Mean of the Volume column: 5.066666666666666\n",
      "Median of the Volume column: 4.0\n",
      "Mode of the Volume column: 0    3\n",
      "Name: Volume, dtype: int64\n",
      "Standard deviation of the Volume column: 4.231602391213926\n"
     ]
    }
   ],
   "source": [
    "print(\"Mean of the Volume column:\" ,df['Volume'].mean())\n",
    "print(\"Median of the Volume column:\" ,df['Volume'].median())\n",
    "print(\"Mode of the Volume column:\" ,df['Volume'].mode())\n",
    "print(\"Standard deviation of the Volume column:\" ,df['Volume'].std())\n"
   ]
  },
  {
   "cell_type": "code",
   "execution_count": 33,
   "id": "40f45218-629f-40d7-b80c-595f873ba156",
   "metadata": {},
   "outputs": [
    {
     "data": {
      "text/plain": [
       "0      12100\n",
       "1      10100\n",
       "2      16100\n",
       "3      20100\n",
       "4       8100\n",
       "       ...  \n",
       "445     1300\n",
       "446     2600\n",
       "447     1600\n",
       "448     1900\n",
       "449     3100\n",
       "Name: Avg Price, Length: 450, dtype: int64"
      ]
     },
     "execution_count": 33,
     "metadata": {},
     "output_type": "execute_result"
    }
   ],
   "source": [
    "# step 4 b: Calculating metrics for Avg Price\n",
    "df[\"Avg Price\"]"
   ]
  },
  {
   "cell_type": "code",
   "execution_count": 35,
   "id": "7fc7deaf-c04c-4f03-bd47-b605dd5cf6ba",
   "metadata": {},
   "outputs": [
    {
     "name": "stdout",
     "output_type": "stream",
     "text": [
      "Mean of the Avg Price column: 10453.433333333332\n",
      "Median of the Avg Price column: 1450.0\n",
      "Mode of the Avg Price column: 0     400\n",
      "1     450\n",
      "2     500\n",
      "3    1300\n",
      "4    8100\n",
      "Name: Avg Price, dtype: int64\n",
      "Standard deviation of the Avg Price column: 18079.90483993645\n"
     ]
    }
   ],
   "source": [
    "print(\"Mean of the Avg Price column:\" ,df['Avg Price'].mean())\n",
    "print(\"Median of the Avg Price column:\" ,df['Avg Price'].median())\n",
    "print(\"Mode of the Avg Price column:\" ,df['Avg Price'].mode())\n",
    "print(\"Standard deviation of the Avg Price column:\" ,df['Avg Price'].std())"
   ]
  },
  {
   "cell_type": "code",
   "execution_count": 31,
   "id": "e6dcdfc0-b32f-4576-83f9-5ac7172adc0b",
   "metadata": {},
   "outputs": [
    {
     "data": {
      "text/plain": [
       "0      181500\n",
       "1      101000\n",
       "2      112700\n",
       "3      120600\n",
       "4       24300\n",
       "        ...  \n",
       "445      2600\n",
       "446     15600\n",
       "447      3200\n",
       "448      5700\n",
       "449      3100\n",
       "Name: Total Sales Value, Length: 450, dtype: int64"
      ]
     },
     "execution_count": 31,
     "metadata": {},
     "output_type": "execute_result"
    }
   ],
   "source": [
    "# step 4 c: Calculating metrics for Total Sales Value\n",
    "df[\"Total Sales Value\"]"
   ]
  },
  {
   "cell_type": "code",
   "execution_count": 37,
   "id": "64e3ad73-281e-41a0-8c27-606d5cd12cb6",
   "metadata": {},
   "outputs": [
    {
     "name": "stdout",
     "output_type": "stream",
     "text": [
      "Mean of the Total Sales Value column: 33812.83555555555\n",
      "Median of the Total Sales Value column: 5700.0\n",
      "Mode of the Total Sales Value column: 0    24300\n",
      "Name: Total Sales Value, dtype: int64\n",
      "Standard deviation of the Total Sales Value column: 50535.07417255328\n"
     ]
    }
   ],
   "source": [
    "print(\"Mean of the Total Sales Value column:\" ,df['Total Sales Value'].mean())\n",
    "print(\"Median of the Total Sales Value column:\" ,df['Total Sales Value'].median())\n",
    "print(\"Mode of the Total Sales Value column:\" ,df['Total Sales Value'].mode())\n",
    "print(\"Standard deviation of the Total Sales Value column:\" ,df['Total Sales Value'].std())"
   ]
  },
  {
   "cell_type": "code",
   "execution_count": 11,
   "id": "109a7ac9-66d4-4f30-a143-4ccc8b9e18b3",
   "metadata": {},
   "outputs": [
    {
     "data": {
      "text/plain": [
       "0      11.654820\n",
       "1      11.560498\n",
       "2       9.456886\n",
       "3       6.935385\n",
       "4      17.995663\n",
       "         ...    \n",
       "445    15.475687\n",
       "446    17.057027\n",
       "447    18.965550\n",
       "448    16.793014\n",
       "449    15.333300\n",
       "Name: Discount Rate (%), Length: 450, dtype: float64"
      ]
     },
     "execution_count": 11,
     "metadata": {},
     "output_type": "execute_result"
    }
   ],
   "source": [
    "# step 4 d: Calculating metrics for Discount Rate\n",
    "df[\"Discount Rate (%)\"]"
   ]
  },
  {
   "cell_type": "code",
   "execution_count": 39,
   "id": "0e7ac497-60da-4ba0-9baa-e2db8ee4ee15",
   "metadata": {},
   "outputs": [
    {
     "name": "stdout",
     "output_type": "stream",
     "text": [
      "Mean of the Discount Rate (%) column: 15.155241895330914\n",
      "Median of the Discount Rate (%) column: 16.57776564929597\n",
      "Mode of the Discount Rate (%) column: 0       5.007822\n",
      "1       5.055218\n",
      "2       5.059801\n",
      "3       5.072124\n",
      "4       5.084108\n",
      "         ...    \n",
      "445    19.940610\n",
      "446    19.965340\n",
      "447    19.976879\n",
      "448    19.982257\n",
      "449    19.992407\n",
      "Name: Discount Rate (%), Length: 450, dtype: float64\n",
      "Standard deviation of the Discount Rate (%) column: 4.220602153325511\n"
     ]
    }
   ],
   "source": [
    "print(\"Mean of the Discount Rate (%) column:\" ,df['Discount Rate (%)'].mean())\n",
    "print(\"Median of the Discount Rate (%) column:\" ,df['Discount Rate (%)'].median())\n",
    "print(\"Mode of the Discount Rate (%) column:\" ,df['Discount Rate (%)'].mode())\n",
    "print(\"Standard deviation of the Discount Rate (%) column:\" ,df['Discount Rate (%)'].std())"
   ]
  },
  {
   "cell_type": "code",
   "execution_count": 7,
   "id": "2b6f0cb4-3a4d-4538-aa38-6fc534e7549e",
   "metadata": {},
   "outputs": [
    {
     "data": {
      "text/plain": [
       "Discount Rate (%)\n",
       "11.654820    1\n",
       "9.791440     1\n",
       "6.106931     1\n",
       "8.394469     1\n",
       "19.940610    1\n",
       "            ..\n",
       "18.092168    1\n",
       "17.379604    1\n",
       "18.939784    1\n",
       "16.121597    1\n",
       "15.333300    1\n",
       "Name: count, Length: 450, dtype: int64"
      ]
     },
     "execution_count": 7,
     "metadata": {},
     "output_type": "execute_result"
    }
   ],
   "source": [
    "df[\"Discount Rate (%)\"].value_counts()"
   ]
  },
  {
   "cell_type": "code",
   "execution_count": 40,
   "id": "045157a4-e8e2-4d07-822c-0cb35c76c536",
   "metadata": {},
   "outputs": [],
   "source": [
    "#since the Discount Rate column consists of floating data type values and continuous data we can't able to find out the most repeated value particularly."
   ]
  },
  {
   "cell_type": "code",
   "execution_count": 11,
   "id": "cc954840-34f1-4cc8-bd32-bcf2166d7b22",
   "metadata": {},
   "outputs": [
    {
     "data": {
      "text/plain": [
       "0      21153.498820\n",
       "1      11676.102961\n",
       "2      10657.910157\n",
       "3       8364.074702\n",
       "4       4372.946230\n",
       "           ...     \n",
       "445      402.367873\n",
       "446     2660.896242\n",
       "447      606.897606\n",
       "448      957.201826\n",
       "449      475.332295\n",
       "Name: Discount Amount, Length: 450, dtype: float64"
      ]
     },
     "execution_count": 11,
     "metadata": {},
     "output_type": "execute_result"
    }
   ],
   "source": [
    "# step 4 e: Calculating metrics for Discount Amount\n",
    "df[\"Discount Amount\"]"
   ]
  },
  {
   "cell_type": "code",
   "execution_count": 45,
   "id": "67a2c50c-0a7b-4865-b7ea-5fd089fd95e3",
   "metadata": {},
   "outputs": [
    {
     "name": "stdout",
     "output_type": "stream",
     "text": [
      "Mean of the Discount Amount (%) column: 3346.499424342415\n",
      "Median of the Discount Amount (%) column: 988.9337332382784\n",
      "Mode of the Discount Amount (%) column: 0         69.177942\n",
      "1         73.025199\n",
      "2         93.649161\n",
      "3         94.682735\n",
      "4        102.705757\n",
      "           ...     \n",
      "445    17900.983733\n",
      "446    21153.498820\n",
      "447    21496.675367\n",
      "448    25328.224204\n",
      "449    25738.022194\n",
      "Name: Discount Amount, Length: 450, dtype: float64\n",
      "Standard deviation of the Discount Amount (%) column: 4509.9029633539985\n"
     ]
    }
   ],
   "source": [
    "print(\"Mean of the Discount Amount (%) column:\" ,df['Discount Amount'].mean())\n",
    "print(\"Median of the Discount Amount (%) column:\" ,df['Discount Amount'].median())\n",
    "print(\"Mode of the Discount Amount (%) column:\" ,df['Discount Amount'].mode())\n",
    "print(\"Standard deviation of the Discount Amount (%) column:\" ,df['Discount Amount'].std())"
   ]
  },
  {
   "cell_type": "code",
   "execution_count": 2,
   "id": "475d433a-fbf1-42ac-812b-77b3ae028858",
   "metadata": {},
   "outputs": [],
   "source": [
    "#step 4 f : Calculating metrics for Net Sales Value Column"
   ]
  },
  {
   "cell_type": "code",
   "execution_count": 10,
   "id": "e575117c-5963-47e7-b044-49599a7d33b3",
   "metadata": {},
   "outputs": [
    {
     "data": {
      "text/plain": [
       "0      160346.501180\n",
       "1       89323.897039\n",
       "2      102042.089843\n",
       "3      112235.925298\n",
       "4       19927.053770\n",
       "           ...      \n",
       "445      2197.632127\n",
       "446     12939.103758\n",
       "447      2593.102394\n",
       "448      4742.798174\n",
       "449      2624.667705\n",
       "Name: Net Sales Value, Length: 450, dtype: float64"
      ]
     },
     "execution_count": 10,
     "metadata": {},
     "output_type": "execute_result"
    }
   ],
   "source": [
    "df['Net Sales Value']"
   ]
  },
  {
   "cell_type": "code",
   "execution_count": 16,
   "id": "a11efd14-9353-4da5-9b7e-bacd32cc81e0",
   "metadata": {},
   "outputs": [
    {
     "name": "stdout",
     "output_type": "stream",
     "text": [
      "Mean of the Net Sales Value column: 30466.336131270138\n",
      "Median of the Net Sales Value column: 4677.788059301853\n",
      "Mode of the Net Sales Value column: 0         326.974801\n",
      "1         330.822058\n",
      "2         466.350839\n",
      "3         485.317265\n",
      "4         496.607104\n",
      "           ...      \n",
      "445    162603.186379\n",
      "446    163915.971000\n",
      "447    163967.080070\n",
      "448    166263.161348\n",
      "449    179507.479049\n",
      "Name: Net Sales Value, Length: 450, dtype: float64\n",
      "Standard deviation of the Net Sales Value Amount (%) column: 46358.656624066934\n"
     ]
    }
   ],
   "source": [
    "print(\"Mean of the Net Sales Value column:\" ,df['Net Sales Value'].mean())\n",
    "print(\"Median of the Net Sales Value column:\" ,df['Net Sales Value'].median())\n",
    "print(\"Mode of the Net Sales Value column:\" ,df['Net Sales Value'].mode())\n",
    "print(\"Standard deviation of the Net Sales Value Amount (%) column:\" ,df['Net Sales Value'].std())"
   ]
  },
  {
   "cell_type": "code",
   "execution_count": 12,
   "id": "5d7eb179-b042-44ba-8aee-6bce892163e3",
   "metadata": {},
   "outputs": [
    {
     "data": {
      "text/plain": [
       "Net Sales Value\n",
       "160346.501180    1\n",
       "48802.830917     1\n",
       "50796.150489     1\n",
       "134934.946692    1\n",
       "19454.431704     1\n",
       "                ..\n",
       "8518.414504      1\n",
       "4296.260567      1\n",
       "6805.815718      1\n",
       "5452.096217      1\n",
       "2624.667705      1\n",
       "Name: count, Length: 450, dtype: int64"
      ]
     },
     "execution_count": 12,
     "metadata": {},
     "output_type": "execute_result"
    }
   ],
   "source": [
    "df[\"Net Sales Value\"].value_counts()"
   ]
  },
  {
   "cell_type": "code",
   "execution_count": 18,
   "id": "baf3b1b6-7a42-4516-b612-7d7aee866832",
   "metadata": {},
   "outputs": [],
   "source": [
    "#from the above result we can conclude that 24300 value is the most repeated one in the Total Sales Value Column"
   ]
  },
  {
   "cell_type": "code",
   "execution_count": null,
   "id": "a9edc31d-90a2-48a9-873a-7902b5edff20",
   "metadata": {},
   "outputs": [],
   "source": []
  }
 ],
 "metadata": {
  "kernelspec": {
   "display_name": "anaconda-panel-2023.05-py310",
   "language": "python",
   "name": "conda-env-anaconda-panel-2023.05-py310-py"
  },
  "language_info": {
   "codemirror_mode": {
    "name": "ipython",
    "version": 3
   },
   "file_extension": ".py",
   "mimetype": "text/x-python",
   "name": "python",
   "nbconvert_exporter": "python",
   "pygments_lexer": "ipython3",
   "version": "3.11.5"
  }
 },
 "nbformat": 4,
 "nbformat_minor": 5
}
