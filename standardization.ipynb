{
 "cells": [
  {
   "cell_type": "code",
   "execution_count": 8,
   "id": "b04424e8-c06d-4784-8a3d-e3255bba53ec",
   "metadata": {},
   "outputs": [
    {
     "data": {
      "text/html": [
       "<div>\n",
       "<style scoped>\n",
       "    .dataframe tbody tr th:only-of-type {\n",
       "        vertical-align: middle;\n",
       "    }\n",
       "\n",
       "    .dataframe tbody tr th {\n",
       "        vertical-align: top;\n",
       "    }\n",
       "\n",
       "    .dataframe thead th {\n",
       "        text-align: right;\n",
       "    }\n",
       "</style>\n",
       "<table border=\"1\" class=\"dataframe\">\n",
       "  <thead>\n",
       "    <tr style=\"text-align: right;\">\n",
       "      <th></th>\n",
       "      <th>Date</th>\n",
       "      <th>Day</th>\n",
       "      <th>SKU</th>\n",
       "      <th>City</th>\n",
       "      <th>Volume</th>\n",
       "      <th>BU</th>\n",
       "      <th>Brand</th>\n",
       "      <th>Model</th>\n",
       "      <th>Avg Price</th>\n",
       "      <th>Total Sales Value</th>\n",
       "      <th>Discount Rate (%)</th>\n",
       "      <th>Discount Amount</th>\n",
       "      <th>Net Sales Value</th>\n",
       "    </tr>\n",
       "  </thead>\n",
       "  <tbody>\n",
       "    <tr>\n",
       "      <th>0</th>\n",
       "      <td>01-04-2021</td>\n",
       "      <td>Thursday</td>\n",
       "      <td>M01</td>\n",
       "      <td>C</td>\n",
       "      <td>15</td>\n",
       "      <td>Mobiles</td>\n",
       "      <td>RealU</td>\n",
       "      <td>RU-10</td>\n",
       "      <td>12100</td>\n",
       "      <td>181500</td>\n",
       "      <td>11.654820</td>\n",
       "      <td>21153.498820</td>\n",
       "      <td>160346.501180</td>\n",
       "    </tr>\n",
       "    <tr>\n",
       "      <th>1</th>\n",
       "      <td>01-04-2021</td>\n",
       "      <td>Thursday</td>\n",
       "      <td>M02</td>\n",
       "      <td>C</td>\n",
       "      <td>10</td>\n",
       "      <td>Mobiles</td>\n",
       "      <td>RealU</td>\n",
       "      <td>RU-9 Plus</td>\n",
       "      <td>10100</td>\n",
       "      <td>101000</td>\n",
       "      <td>11.560498</td>\n",
       "      <td>11676.102961</td>\n",
       "      <td>89323.897039</td>\n",
       "    </tr>\n",
       "    <tr>\n",
       "      <th>2</th>\n",
       "      <td>01-04-2021</td>\n",
       "      <td>Thursday</td>\n",
       "      <td>M03</td>\n",
       "      <td>C</td>\n",
       "      <td>7</td>\n",
       "      <td>Mobiles</td>\n",
       "      <td>YouM</td>\n",
       "      <td>YM-99</td>\n",
       "      <td>16100</td>\n",
       "      <td>112700</td>\n",
       "      <td>9.456886</td>\n",
       "      <td>10657.910157</td>\n",
       "      <td>102042.089843</td>\n",
       "    </tr>\n",
       "    <tr>\n",
       "      <th>3</th>\n",
       "      <td>01-04-2021</td>\n",
       "      <td>Thursday</td>\n",
       "      <td>M04</td>\n",
       "      <td>C</td>\n",
       "      <td>6</td>\n",
       "      <td>Mobiles</td>\n",
       "      <td>YouM</td>\n",
       "      <td>YM-99 Plus</td>\n",
       "      <td>20100</td>\n",
       "      <td>120600</td>\n",
       "      <td>6.935385</td>\n",
       "      <td>8364.074702</td>\n",
       "      <td>112235.925298</td>\n",
       "    </tr>\n",
       "    <tr>\n",
       "      <th>4</th>\n",
       "      <td>01-04-2021</td>\n",
       "      <td>Thursday</td>\n",
       "      <td>M05</td>\n",
       "      <td>C</td>\n",
       "      <td>3</td>\n",
       "      <td>Mobiles</td>\n",
       "      <td>YouM</td>\n",
       "      <td>YM-98</td>\n",
       "      <td>8100</td>\n",
       "      <td>24300</td>\n",
       "      <td>17.995663</td>\n",
       "      <td>4372.946230</td>\n",
       "      <td>19927.053770</td>\n",
       "    </tr>\n",
       "    <tr>\n",
       "      <th>...</th>\n",
       "      <td>...</td>\n",
       "      <td>...</td>\n",
       "      <td>...</td>\n",
       "      <td>...</td>\n",
       "      <td>...</td>\n",
       "      <td>...</td>\n",
       "      <td>...</td>\n",
       "      <td>...</td>\n",
       "      <td>...</td>\n",
       "      <td>...</td>\n",
       "      <td>...</td>\n",
       "      <td>...</td>\n",
       "      <td>...</td>\n",
       "    </tr>\n",
       "    <tr>\n",
       "      <th>445</th>\n",
       "      <td>15-04-2021</td>\n",
       "      <td>Thursday</td>\n",
       "      <td>L06</td>\n",
       "      <td>C</td>\n",
       "      <td>2</td>\n",
       "      <td>Lifestyle</td>\n",
       "      <td>Jeera</td>\n",
       "      <td>M-Casuals</td>\n",
       "      <td>1300</td>\n",
       "      <td>2600</td>\n",
       "      <td>15.475687</td>\n",
       "      <td>402.367873</td>\n",
       "      <td>2197.632127</td>\n",
       "    </tr>\n",
       "    <tr>\n",
       "      <th>446</th>\n",
       "      <td>15-04-2021</td>\n",
       "      <td>Thursday</td>\n",
       "      <td>L07</td>\n",
       "      <td>C</td>\n",
       "      <td>6</td>\n",
       "      <td>Lifestyle</td>\n",
       "      <td>Viva</td>\n",
       "      <td>W-Western</td>\n",
       "      <td>2600</td>\n",
       "      <td>15600</td>\n",
       "      <td>17.057027</td>\n",
       "      <td>2660.896242</td>\n",
       "      <td>12939.103758</td>\n",
       "    </tr>\n",
       "    <tr>\n",
       "      <th>447</th>\n",
       "      <td>15-04-2021</td>\n",
       "      <td>Thursday</td>\n",
       "      <td>L08</td>\n",
       "      <td>C</td>\n",
       "      <td>2</td>\n",
       "      <td>Lifestyle</td>\n",
       "      <td>Viva</td>\n",
       "      <td>W-Lounge</td>\n",
       "      <td>1600</td>\n",
       "      <td>3200</td>\n",
       "      <td>18.965550</td>\n",
       "      <td>606.897606</td>\n",
       "      <td>2593.102394</td>\n",
       "    </tr>\n",
       "    <tr>\n",
       "      <th>448</th>\n",
       "      <td>15-04-2021</td>\n",
       "      <td>Thursday</td>\n",
       "      <td>L09</td>\n",
       "      <td>C</td>\n",
       "      <td>3</td>\n",
       "      <td>Lifestyle</td>\n",
       "      <td>Jeera</td>\n",
       "      <td>M-Formals</td>\n",
       "      <td>1900</td>\n",
       "      <td>5700</td>\n",
       "      <td>16.793014</td>\n",
       "      <td>957.201826</td>\n",
       "      <td>4742.798174</td>\n",
       "    </tr>\n",
       "    <tr>\n",
       "      <th>449</th>\n",
       "      <td>15-04-2021</td>\n",
       "      <td>Thursday</td>\n",
       "      <td>L10</td>\n",
       "      <td>C</td>\n",
       "      <td>1</td>\n",
       "      <td>Lifestyle</td>\n",
       "      <td>Jeera</td>\n",
       "      <td>M-Shoes</td>\n",
       "      <td>3100</td>\n",
       "      <td>3100</td>\n",
       "      <td>15.333300</td>\n",
       "      <td>475.332295</td>\n",
       "      <td>2624.667705</td>\n",
       "    </tr>\n",
       "  </tbody>\n",
       "</table>\n",
       "<p>450 rows × 13 columns</p>\n",
       "</div>"
      ],
      "text/plain": [
       "           Date       Day  SKU City  Volume         BU  Brand       Model  \\\n",
       "0    01-04-2021  Thursday  M01    C      15    Mobiles  RealU       RU-10   \n",
       "1    01-04-2021  Thursday  M02    C      10    Mobiles  RealU   RU-9 Plus   \n",
       "2    01-04-2021  Thursday  M03    C       7    Mobiles   YouM       YM-99   \n",
       "3    01-04-2021  Thursday  M04    C       6    Mobiles   YouM  YM-99 Plus   \n",
       "4    01-04-2021  Thursday  M05    C       3    Mobiles   YouM      YM-98    \n",
       "..          ...       ...  ...  ...     ...        ...    ...         ...   \n",
       "445  15-04-2021  Thursday  L06    C       2  Lifestyle  Jeera   M-Casuals   \n",
       "446  15-04-2021  Thursday  L07    C       6  Lifestyle   Viva   W-Western   \n",
       "447  15-04-2021  Thursday  L08    C       2  Lifestyle   Viva    W-Lounge   \n",
       "448  15-04-2021  Thursday  L09    C       3  Lifestyle  Jeera   M-Formals   \n",
       "449  15-04-2021  Thursday  L10    C       1  Lifestyle  Jeera     M-Shoes   \n",
       "\n",
       "     Avg Price  Total Sales Value  Discount Rate (%)  Discount Amount  \\\n",
       "0        12100             181500          11.654820     21153.498820   \n",
       "1        10100             101000          11.560498     11676.102961   \n",
       "2        16100             112700           9.456886     10657.910157   \n",
       "3        20100             120600           6.935385      8364.074702   \n",
       "4         8100              24300          17.995663      4372.946230   \n",
       "..         ...                ...                ...              ...   \n",
       "445       1300               2600          15.475687       402.367873   \n",
       "446       2600              15600          17.057027      2660.896242   \n",
       "447       1600               3200          18.965550       606.897606   \n",
       "448       1900               5700          16.793014       957.201826   \n",
       "449       3100               3100          15.333300       475.332295   \n",
       "\n",
       "     Net Sales Value  \n",
       "0      160346.501180  \n",
       "1       89323.897039  \n",
       "2      102042.089843  \n",
       "3      112235.925298  \n",
       "4       19927.053770  \n",
       "..               ...  \n",
       "445      2197.632127  \n",
       "446     12939.103758  \n",
       "447      2593.102394  \n",
       "448      4742.798174  \n",
       "449      2624.667705  \n",
       "\n",
       "[450 rows x 13 columns]"
      ]
     },
     "execution_count": 8,
     "metadata": {},
     "output_type": "execute_result"
    }
   ],
   "source": [
    "## importing pandas\n",
    "import pandas as pd\n",
    "df=pd.read_csv(\"sales_data_with_discounts.csv\")\n",
    "df"
   ]
  },
  {
   "cell_type": "code",
   "execution_count": 12,
   "id": "ccddeddb-d1f6-459d-8e51-aeaa253b06b8",
   "metadata": {},
   "outputs": [
    {
     "data": {
      "text/plain": [
       "0      2.350029\n",
       "1      1.167129\n",
       "2      0.457388\n",
       "3      0.220808\n",
       "4     -0.488932\n",
       "         ...   \n",
       "445   -0.725512\n",
       "446    0.220808\n",
       "447   -0.725512\n",
       "448   -0.488932\n",
       "449   -0.962092\n",
       "Name: z_Volume, Length: 450, dtype: float64"
      ]
     },
     "execution_count": 12,
     "metadata": {},
     "output_type": "execute_result"
    }
   ],
   "source": [
    "##importing scipy\n",
    "from scipy import stats\n",
    "##step 1\n",
    "#Normalization on Volume Column\n",
    "df[\"z_Volume\"]=stats.zscore(df[\"Volume\"])\n",
    "df[\"z_Volume\"]"
   ]
  },
  {
   "cell_type": "code",
   "execution_count": 24,
   "id": "7ac57667-3d29-4ec5-a15d-ba3a8697a989",
   "metadata": {},
   "outputs": [
    {
     "data": {
      "text/plain": [
       "z_Volume     6.135311\n",
       "Volume      31.000000\n",
       "dtype: float64"
      ]
     },
     "execution_count": 24,
     "metadata": {},
     "output_type": "execute_result"
    }
   ],
   "source": [
    "##FINDING MAX AND MIN VALUES in order to observe the ranges of the distributions\n",
    "df[[\"z_Volume\",\"Volume\"]].max()"
   ]
  },
  {
   "cell_type": "code",
   "execution_count": 26,
   "id": "1fb75774-c483-461e-9d3e-3803c249002b",
   "metadata": {},
   "outputs": [
    {
     "data": {
      "text/plain": [
       "z_Volume   -0.962092\n",
       "Volume      1.000000\n",
       "dtype: float64"
      ]
     },
     "execution_count": 26,
     "metadata": {},
     "output_type": "execute_result"
    }
   ],
   "source": [
    "###FINDING MIN VALUE\n",
    "df[[\"z_Volume\",\"Volume\"]].min()"
   ]
  },
  {
   "cell_type": "code",
   "execution_count": 34,
   "id": "8e07106f-70d1-4824-844b-3fe4010a2c9c",
   "metadata": {},
   "outputs": [
    {
     "data": {
      "text/plain": [
       "array([[<Axes: title={'center': 'z_Volume'}>,\n",
       "        <Axes: title={'center': 'Volume'}>]], dtype=object)"
      ]
     },
     "execution_count": 34,
     "metadata": {},
     "output_type": "execute_result"
    },
    {
     "data": {
      "image/png": "[encoded data removed]",
      "text/plain": [
       "<Figure size 640x480 with 2 Axes>"
      ]
     },
     "metadata": {},
     "output_type": "display_data"
    }
   ],
   "source": [
    "###to find observations regarding distributions we are constructing histogram\n",
    "df[[\"z_Volume\",\"Volume\"]].hist()"
   ]
  },
  {
   "cell_type": "code",
   "execution_count": 28,
   "id": "5e219daf-1b74-45dd-ac58-dd5d7a43068d",
   "metadata": {},
   "outputs": [
    {
     "data": {
      "text/plain": [
       "10453.433"
      ]
     },
     "execution_count": 28,
     "metadata": {},
     "output_type": "execute_result"
    }
   ],
   "source": [
    "##step 2\n",
    "#Normalization on Avg Price Column\n",
    "df[\"Z_Avg_score\"]=(df[\"Avg Price\"]-df[\"Avg Price\"].mean())/df[\"Avg Price\"].std()\n",
    "df[\"Avg Price\"].mean().round(3)"
   ]
  },
  {
   "cell_type": "code",
   "execution_count": 30,
   "id": "753999e1-73ea-41c7-979a-2a60aae1dd88",
   "metadata": {},
   "outputs": [
    {
     "data": {
      "text/html": [
       "<div>\n",
       "<style scoped>\n",
       "    .dataframe tbody tr th:only-of-type {\n",
       "        vertical-align: middle;\n",
       "    }\n",
       "\n",
       "    .dataframe tbody tr th {\n",
       "        vertical-align: top;\n",
       "    }\n",
       "\n",
       "    .dataframe thead th {\n",
       "        text-align: right;\n",
       "    }\n",
       "</style>\n",
       "<table border=\"1\" class=\"dataframe\">\n",
       "  <thead>\n",
       "    <tr style=\"text-align: right;\">\n",
       "      <th></th>\n",
       "      <th>Avg Price</th>\n",
       "      <th>Z_Avg_score</th>\n",
       "    </tr>\n",
       "  </thead>\n",
       "  <tbody>\n",
       "    <tr>\n",
       "      <th>0</th>\n",
       "      <td>12100</td>\n",
       "      <td>0.091072</td>\n",
       "    </tr>\n",
       "    <tr>\n",
       "      <th>1</th>\n",
       "      <td>10100</td>\n",
       "      <td>-0.019548</td>\n",
       "    </tr>\n",
       "    <tr>\n",
       "      <th>2</th>\n",
       "      <td>16100</td>\n",
       "      <td>0.312312</td>\n",
       "    </tr>\n",
       "    <tr>\n",
       "      <th>3</th>\n",
       "      <td>20100</td>\n",
       "      <td>0.533552</td>\n",
       "    </tr>\n",
       "    <tr>\n",
       "      <th>4</th>\n",
       "      <td>8100</td>\n",
       "      <td>-0.130168</td>\n",
       "    </tr>\n",
       "    <tr>\n",
       "      <th>...</th>\n",
       "      <td>...</td>\n",
       "      <td>...</td>\n",
       "    </tr>\n",
       "    <tr>\n",
       "      <th>445</th>\n",
       "      <td>1300</td>\n",
       "      <td>-0.506277</td>\n",
       "    </tr>\n",
       "    <tr>\n",
       "      <th>446</th>\n",
       "      <td>2600</td>\n",
       "      <td>-0.434374</td>\n",
       "    </tr>\n",
       "    <tr>\n",
       "      <th>447</th>\n",
       "      <td>1600</td>\n",
       "      <td>-0.489684</td>\n",
       "    </tr>\n",
       "    <tr>\n",
       "      <th>448</th>\n",
       "      <td>1900</td>\n",
       "      <td>-0.473091</td>\n",
       "    </tr>\n",
       "    <tr>\n",
       "      <th>449</th>\n",
       "      <td>3100</td>\n",
       "      <td>-0.406719</td>\n",
       "    </tr>\n",
       "  </tbody>\n",
       "</table>\n",
       "<p>450 rows × 2 columns</p>\n",
       "</div>"
      ],
      "text/plain": [
       "     Avg Price  Z_Avg_score\n",
       "0        12100     0.091072\n",
       "1        10100    -0.019548\n",
       "2        16100     0.312312\n",
       "3        20100     0.533552\n",
       "4         8100    -0.130168\n",
       "..         ...          ...\n",
       "445       1300    -0.506277\n",
       "446       2600    -0.434374\n",
       "447       1600    -0.489684\n",
       "448       1900    -0.473091\n",
       "449       3100    -0.406719\n",
       "\n",
       "[450 rows x 2 columns]"
      ]
     },
     "execution_count": 30,
     "metadata": {},
     "output_type": "execute_result"
    }
   ],
   "source": [
    "df[[\"Avg Price\",\"Z_Avg_score\"]]\n"
   ]
  },
  {
   "cell_type": "code",
   "execution_count": 36,
   "id": "e9614002-ba96-43f9-a85a-3e701fa8fdc0",
   "metadata": {},
   "outputs": [
    {
     "name": "stdout",
     "output_type": "stream",
     "text": [
      "distributions: Avg Price      60100.000000\n",
      "Z_Avg_score        2.745953\n",
      "dtype: float64\n"
     ]
    }
   ],
   "source": [
    "##FINDING MAX AND MIN VALUES in order to observe the ranges of the distributions \n",
    "print(\"distributions:\",df[[\"Avg Price\",\"Z_Avg_score\"]].max())"
   ]
  },
  {
   "cell_type": "code",
   "execution_count": 143,
   "id": "57ced82c-51cb-4dfb-82a0-11ae8052fc29",
   "metadata": {},
   "outputs": [
    {
     "data": {
      "text/plain": [
       "Avg Price      290.00000\n",
       "Z_Avg_score     -0.56214\n",
       "dtype: float64"
      ]
     },
     "execution_count": 143,
     "metadata": {},
     "output_type": "execute_result"
    }
   ],
   "source": [
    "df[[\"Avg Price\",\"Z_Avg_score\"]].min()"
   ]
  },
  {
   "cell_type": "code",
   "execution_count": 38,
   "id": "38468811-6f84-4fe3-9657-de344e2049e7",
   "metadata": {},
   "outputs": [
    {
     "data": {
      "text/plain": [
       "array([[<Axes: title={'center': 'Avg Price'}>,\n",
       "        <Axes: title={'center': 'Z_Avg_score'}>]], dtype=object)"
      ]
     },
     "execution_count": 38,
     "metadata": {},
     "output_type": "execute_result"
    },
    {
     "data": {
      "image/png": "[encoded data removed]",
      "text/plain": [
       "<Figure size 640x480 with 2 Axes>"
      ]
     },
     "metadata": {},
     "output_type": "display_data"
    }
   ],
   "source": [
    "###to find observations regarding distributions we are constructing histogram\n",
    "df[[\"Avg Price\",\"Z_Avg_score\"]].hist()"
   ]
  },
  {
   "cell_type": "code",
   "execution_count": 73,
   "id": "ab5e440b-2aea-4860-9dc7-f584a0d484c5",
   "metadata": {},
   "outputs": [],
   "source": [
    "#Normalization on Total Sales Value Column"
   ]
  },
  {
   "cell_type": "code",
   "execution_count": 40,
   "id": "31edfc83-19dc-42e6-a9f1-56b232f83434",
   "metadata": {},
   "outputs": [
    {
     "data": {
      "text/plain": [
       "0      2.925721\n",
       "1      1.330995\n",
       "2      1.562775\n",
       "3      1.719276\n",
       "4     -0.188452\n",
       "         ...   \n",
       "445   -0.618334\n",
       "446   -0.360801\n",
       "447   -0.606448\n",
       "448   -0.556923\n",
       "449   -0.608429\n",
       "Name: Z_Total_Sales_Score, Length: 450, dtype: float64"
      ]
     },
     "execution_count": 40,
     "metadata": {},
     "output_type": "execute_result"
    }
   ],
   "source": [
    "##step 3 \n",
    "from scipy import stats\n",
    "df[\"Z_Total_Sales_Score\"]=stats.zscore(df[\"Total Sales Value\"])\n",
    "df[\"Z_Total_Sales_Score\"]"
   ]
  },
  {
   "cell_type": "code",
   "execution_count": 42,
   "id": "22d3397d-ba77-4128-b104-c229039fb985",
   "metadata": {},
   "outputs": [
    {
     "data": {
      "text/html": [
       "<div>\n",
       "<style scoped>\n",
       "    .dataframe tbody tr th:only-of-type {\n",
       "        vertical-align: middle;\n",
       "    }\n",
       "\n",
       "    .dataframe tbody tr th {\n",
       "        vertical-align: top;\n",
       "    }\n",
       "\n",
       "    .dataframe thead th {\n",
       "        text-align: right;\n",
       "    }\n",
       "</style>\n",
       "<table border=\"1\" class=\"dataframe\">\n",
       "  <thead>\n",
       "    <tr style=\"text-align: right;\">\n",
       "      <th></th>\n",
       "      <th>Z_Total_Sales_Score</th>\n",
       "      <th>Total Sales Value</th>\n",
       "    </tr>\n",
       "  </thead>\n",
       "  <tbody>\n",
       "    <tr>\n",
       "      <th>0</th>\n",
       "      <td>2.925721</td>\n",
       "      <td>181500</td>\n",
       "    </tr>\n",
       "    <tr>\n",
       "      <th>1</th>\n",
       "      <td>1.330995</td>\n",
       "      <td>101000</td>\n",
       "    </tr>\n",
       "    <tr>\n",
       "      <th>2</th>\n",
       "      <td>1.562775</td>\n",
       "      <td>112700</td>\n",
       "    </tr>\n",
       "    <tr>\n",
       "      <th>3</th>\n",
       "      <td>1.719276</td>\n",
       "      <td>120600</td>\n",
       "    </tr>\n",
       "    <tr>\n",
       "      <th>4</th>\n",
       "      <td>-0.188452</td>\n",
       "      <td>24300</td>\n",
       "    </tr>\n",
       "    <tr>\n",
       "      <th>...</th>\n",
       "      <td>...</td>\n",
       "      <td>...</td>\n",
       "    </tr>\n",
       "    <tr>\n",
       "      <th>445</th>\n",
       "      <td>-0.618334</td>\n",
       "      <td>2600</td>\n",
       "    </tr>\n",
       "    <tr>\n",
       "      <th>446</th>\n",
       "      <td>-0.360801</td>\n",
       "      <td>15600</td>\n",
       "    </tr>\n",
       "    <tr>\n",
       "      <th>447</th>\n",
       "      <td>-0.606448</td>\n",
       "      <td>3200</td>\n",
       "    </tr>\n",
       "    <tr>\n",
       "      <th>448</th>\n",
       "      <td>-0.556923</td>\n",
       "      <td>5700</td>\n",
       "    </tr>\n",
       "    <tr>\n",
       "      <th>449</th>\n",
       "      <td>-0.608429</td>\n",
       "      <td>3100</td>\n",
       "    </tr>\n",
       "  </tbody>\n",
       "</table>\n",
       "<p>450 rows × 2 columns</p>\n",
       "</div>"
      ],
      "text/plain": [
       "     Z_Total_Sales_Score  Total Sales Value\n",
       "0               2.925721             181500\n",
       "1               1.330995             101000\n",
       "2               1.562775             112700\n",
       "3               1.719276             120600\n",
       "4              -0.188452              24300\n",
       "..                   ...                ...\n",
       "445            -0.618334               2600\n",
       "446            -0.360801              15600\n",
       "447            -0.606448               3200\n",
       "448            -0.556923               5700\n",
       "449            -0.608429               3100\n",
       "\n",
       "[450 rows x 2 columns]"
      ]
     },
     "execution_count": 42,
     "metadata": {},
     "output_type": "execute_result"
    }
   ],
   "source": [
    "df[[\"Z_Total_Sales_Score\",\"Total Sales Value\"]]"
   ]
  },
  {
   "cell_type": "code",
   "execution_count": 44,
   "id": "02f01210-fdff-48b2-b457-7cf4998b52a3",
   "metadata": {},
   "outputs": [
    {
     "data": {
      "text/plain": [
       "Z_Total_Sales_Score         3.220894\n",
       "Total Sales Value      196400.000000\n",
       "dtype: float64"
      ]
     },
     "execution_count": 44,
     "metadata": {},
     "output_type": "execute_result"
    }
   ],
   "source": [
    "##FINDING MAX AND MIN VALUES in order to observe the ranges of the distributions\n",
    "df[[\"Z_Total_Sales_Score\",\"Total Sales Value\"]].max()"
   ]
  },
  {
   "cell_type": "code",
   "execution_count": 46,
   "id": "60bc1f07-4a07-4ed0-846c-5d1b20cc2385",
   "metadata": {},
   "outputs": [
    {
     "data": {
      "text/plain": [
       "Z_Total_Sales_Score     -0.661917\n",
       "Total Sales Value      400.000000\n",
       "dtype: float64"
      ]
     },
     "execution_count": 46,
     "metadata": {},
     "output_type": "execute_result"
    }
   ],
   "source": [
    "df[[\"Z_Total_Sales_Score\",\"Total Sales Value\"]].min()"
   ]
  },
  {
   "cell_type": "code",
   "execution_count": 48,
   "id": "59501181-e12f-4166-a105-895b646b9df7",
   "metadata": {},
   "outputs": [
    {
     "data": {
      "text/plain": [
       "array([[<Axes: title={'center': 'Z_Total_Sales_Score'}>,\n",
       "        <Axes: title={'center': 'Total Sales Value'}>]], dtype=object)"
      ]
     },
     "execution_count": 48,
     "metadata": {},
     "output_type": "execute_result"
    },
    {
     "data": {
      "image/png": "[encoded data removed]",
      "text/plain": [
       "<Figure size 640x480 with 2 Axes>"
      ]
     },
     "metadata": {},
     "output_type": "display_data"
    }
   ],
   "source": [
    "###to find observations regarding distributions we are constructing histogram\n",
    "df[[\"Z_Total_Sales_Score\",\"Total Sales Value\"]].hist()"
   ]
  },
  {
   "cell_type": "code",
   "execution_count": 87,
   "id": "b7433c17-4b79-4258-ade0-6bc5561b194f",
   "metadata": {},
   "outputs": [],
   "source": [
    "#Normalization on Discount Rate (%) Column"
   ]
  },
  {
   "cell_type": "code",
   "execution_count": 50,
   "id": "6c351869-d488-4022-ae5d-a2510ded6fb1",
   "metadata": {},
   "outputs": [
    {
     "data": {
      "text/plain": [
       "0     -0.830289\n",
       "1     -0.852661\n",
       "2     -1.351631\n",
       "3     -1.949723\n",
       "4      0.673739\n",
       "         ...   \n",
       "445    0.076009\n",
       "446    0.451097\n",
       "447    0.903793\n",
       "448    0.388474\n",
       "449    0.042235\n",
       "Name: Z_Discount_Rate-score, Length: 450, dtype: float64"
      ]
     },
     "execution_count": 50,
     "metadata": {},
     "output_type": "execute_result"
    }
   ],
   "source": [
    "#step 4\n",
    "from scipy import stats\n",
    "df[\"Z_Discount_Rate-score\"]=stats.zscore(df[\"Discount Rate (%)\"])\n",
    "df[\"Z_Discount_Rate-score\"]"
   ]
  },
  {
   "cell_type": "code",
   "execution_count": 99,
   "id": "e0eb07fb-7067-461e-82fb-db51ce16a4ae",
   "metadata": {},
   "outputs": [
    {
     "data": {
      "text/html": [
       "<div>\n",
       "<style scoped>\n",
       "    .dataframe tbody tr th:only-of-type {\n",
       "        vertical-align: middle;\n",
       "    }\n",
       "\n",
       "    .dataframe tbody tr th {\n",
       "        vertical-align: top;\n",
       "    }\n",
       "\n",
       "    .dataframe thead th {\n",
       "        text-align: right;\n",
       "    }\n",
       "</style>\n",
       "<table border=\"1\" class=\"dataframe\">\n",
       "  <thead>\n",
       "    <tr style=\"text-align: right;\">\n",
       "      <th></th>\n",
       "      <th>Z_Discount_Rate-score</th>\n",
       "      <th>Discount Rate (%)</th>\n",
       "    </tr>\n",
       "  </thead>\n",
       "  <tbody>\n",
       "    <tr>\n",
       "      <th>0</th>\n",
       "      <td>-0.830289</td>\n",
       "      <td>11.654820</td>\n",
       "    </tr>\n",
       "    <tr>\n",
       "      <th>1</th>\n",
       "      <td>-0.852661</td>\n",
       "      <td>11.560498</td>\n",
       "    </tr>\n",
       "    <tr>\n",
       "      <th>2</th>\n",
       "      <td>-1.351631</td>\n",
       "      <td>9.456886</td>\n",
       "    </tr>\n",
       "    <tr>\n",
       "      <th>3</th>\n",
       "      <td>-1.949723</td>\n",
       "      <td>6.935385</td>\n",
       "    </tr>\n",
       "    <tr>\n",
       "      <th>4</th>\n",
       "      <td>0.673739</td>\n",
       "      <td>17.995663</td>\n",
       "    </tr>\n",
       "    <tr>\n",
       "      <th>...</th>\n",
       "      <td>...</td>\n",
       "      <td>...</td>\n",
       "    </tr>\n",
       "    <tr>\n",
       "      <th>445</th>\n",
       "      <td>0.076009</td>\n",
       "      <td>15.475687</td>\n",
       "    </tr>\n",
       "    <tr>\n",
       "      <th>446</th>\n",
       "      <td>0.451097</td>\n",
       "      <td>17.057027</td>\n",
       "    </tr>\n",
       "    <tr>\n",
       "      <th>447</th>\n",
       "      <td>0.903793</td>\n",
       "      <td>18.965550</td>\n",
       "    </tr>\n",
       "    <tr>\n",
       "      <th>448</th>\n",
       "      <td>0.388474</td>\n",
       "      <td>16.793014</td>\n",
       "    </tr>\n",
       "    <tr>\n",
       "      <th>449</th>\n",
       "      <td>0.042235</td>\n",
       "      <td>15.333300</td>\n",
       "    </tr>\n",
       "  </tbody>\n",
       "</table>\n",
       "<p>450 rows × 2 columns</p>\n",
       "</div>"
      ],
      "text/plain": [
       "     Z_Discount_Rate-score  Discount Rate (%)\n",
       "0                -0.830289          11.654820\n",
       "1                -0.852661          11.560498\n",
       "2                -1.351631           9.456886\n",
       "3                -1.949723           6.935385\n",
       "4                 0.673739          17.995663\n",
       "..                     ...                ...\n",
       "445               0.076009          15.475687\n",
       "446               0.451097          17.057027\n",
       "447               0.903793          18.965550\n",
       "448               0.388474          16.793014\n",
       "449               0.042235          15.333300\n",
       "\n",
       "[450 rows x 2 columns]"
      ]
     },
     "execution_count": 99,
     "metadata": {},
     "output_type": "execute_result"
    }
   ],
   "source": [
    "df[[\"Z_Discount_Rate-score\",\"Discount Rate (%)\"]]"
   ]
  },
  {
   "cell_type": "code",
   "execution_count": 52,
   "id": "ca617e7f-5c6c-4de3-9b17-5a9b52e1767e",
   "metadata": {},
   "outputs": [
    {
     "data": {
      "text/plain": [
       "Z_Discount_Rate-score     1.147360\n",
       "Discount Rate (%)        19.992407\n",
       "dtype: float64"
      ]
     },
     "execution_count": 52,
     "metadata": {},
     "output_type": "execute_result"
    }
   ],
   "source": [
    "##FINDING MAX AND MIN VALUES in order to observe the ranges of the distributions\n",
    "df[[\"Z_Discount_Rate-score\",\"Discount Rate (%)\"]].max()"
   ]
  },
  {
   "cell_type": "code",
   "execution_count": 54,
   "id": "8a3d9d5c-c1a4-451a-a779-c215cb65ff6c",
   "metadata": {},
   "outputs": [
    {
     "data": {
      "text/plain": [
       "Z_Discount_Rate-score   -2.406935\n",
       "Discount Rate (%)        5.007822\n",
       "dtype: float64"
      ]
     },
     "execution_count": 54,
     "metadata": {},
     "output_type": "execute_result"
    }
   ],
   "source": [
    "df[[\"Z_Discount_Rate-score\",\"Discount Rate (%)\"]].min()"
   ]
  },
  {
   "cell_type": "code",
   "execution_count": 56,
   "id": "64fa4d19-1d93-4c09-a093-706b0b434c4f",
   "metadata": {},
   "outputs": [
    {
     "data": {
      "text/plain": [
       "array([[<Axes: title={'center': 'Z_Discount_Rate-score'}>,\n",
       "        <Axes: title={'center': 'Discount Rate (%)'}>]], dtype=object)"
      ]
     },
     "execution_count": 56,
     "metadata": {},
     "output_type": "execute_result"
    },
    {
     "data": {
      "image/png": "[encoded data removed]",
      "text/plain": [
       "<Figure size 640x480 with 2 Axes>"
      ]
     },
     "metadata": {},
     "output_type": "display_data"
    }
   ],
   "source": [
    "###to find observations regarding distributions we are constructing histogram\n",
    "df[[\"Z_Discount_Rate-score\",\"Discount Rate (%)\"]].hist()"
   ]
  },
  {
   "cell_type": "code",
   "execution_count": 107,
   "id": "19f67ccc-48cc-4060-9b7f-998dd95246ad",
   "metadata": {},
   "outputs": [],
   "source": [
    "#Normalization on Discount Amount Column"
   ]
  },
  {
   "cell_type": "code",
   "execution_count": 58,
   "id": "4433566d-cb6e-4f85-ad14-18b5b570040b",
   "metadata": {},
   "outputs": [
    {
     "data": {
      "text/plain": [
       "0      3.952816\n",
       "1      1.849014\n",
       "2      1.622995\n",
       "3      1.113807\n",
       "4      0.227852\n",
       "         ...   \n",
       "445   -0.653541\n",
       "446   -0.152191\n",
       "447   -0.608140\n",
       "448   -0.530379\n",
       "449   -0.637345\n",
       "Name: Z_Discount_Amount, Length: 450, dtype: float64"
      ]
     },
     "execution_count": 58,
     "metadata": {},
     "output_type": "execute_result"
    }
   ],
   "source": [
    "#step 5\n",
    "from scipy import stats\n",
    "df[\"Z_Discount_Amount\"]=stats.zscore(df[\"Discount Amount\"])\n",
    "df[\"Z_Discount_Amount\"]"
   ]
  },
  {
   "cell_type": "code",
   "execution_count": 111,
   "id": "bcb2494c-47ac-4b0a-8ae8-89583dfb5dbc",
   "metadata": {},
   "outputs": [
    {
     "data": {
      "text/html": [
       "<div>\n",
       "<style scoped>\n",
       "    .dataframe tbody tr th:only-of-type {\n",
       "        vertical-align: middle;\n",
       "    }\n",
       "\n",
       "    .dataframe tbody tr th {\n",
       "        vertical-align: top;\n",
       "    }\n",
       "\n",
       "    .dataframe thead th {\n",
       "        text-align: right;\n",
       "    }\n",
       "</style>\n",
       "<table border=\"1\" class=\"dataframe\">\n",
       "  <thead>\n",
       "    <tr style=\"text-align: right;\">\n",
       "      <th></th>\n",
       "      <th>Z_Discount_Amount</th>\n",
       "      <th>Discount Amount</th>\n",
       "    </tr>\n",
       "  </thead>\n",
       "  <tbody>\n",
       "    <tr>\n",
       "      <th>0</th>\n",
       "      <td>3.952816</td>\n",
       "      <td>21153.498820</td>\n",
       "    </tr>\n",
       "    <tr>\n",
       "      <th>1</th>\n",
       "      <td>1.849014</td>\n",
       "      <td>11676.102961</td>\n",
       "    </tr>\n",
       "    <tr>\n",
       "      <th>2</th>\n",
       "      <td>1.622995</td>\n",
       "      <td>10657.910157</td>\n",
       "    </tr>\n",
       "    <tr>\n",
       "      <th>3</th>\n",
       "      <td>1.113807</td>\n",
       "      <td>8364.074702</td>\n",
       "    </tr>\n",
       "    <tr>\n",
       "      <th>4</th>\n",
       "      <td>0.227852</td>\n",
       "      <td>4372.946230</td>\n",
       "    </tr>\n",
       "    <tr>\n",
       "      <th>...</th>\n",
       "      <td>...</td>\n",
       "      <td>...</td>\n",
       "    </tr>\n",
       "    <tr>\n",
       "      <th>445</th>\n",
       "      <td>-0.653541</td>\n",
       "      <td>402.367873</td>\n",
       "    </tr>\n",
       "    <tr>\n",
       "      <th>446</th>\n",
       "      <td>-0.152191</td>\n",
       "      <td>2660.896242</td>\n",
       "    </tr>\n",
       "    <tr>\n",
       "      <th>447</th>\n",
       "      <td>-0.608140</td>\n",
       "      <td>606.897606</td>\n",
       "    </tr>\n",
       "    <tr>\n",
       "      <th>448</th>\n",
       "      <td>-0.530379</td>\n",
       "      <td>957.201826</td>\n",
       "    </tr>\n",
       "    <tr>\n",
       "      <th>449</th>\n",
       "      <td>-0.637345</td>\n",
       "      <td>475.332295</td>\n",
       "    </tr>\n",
       "  </tbody>\n",
       "</table>\n",
       "<p>450 rows × 2 columns</p>\n",
       "</div>"
      ],
      "text/plain": [
       "     Z_Discount_Amount  Discount Amount\n",
       "0             3.952816     21153.498820\n",
       "1             1.849014     11676.102961\n",
       "2             1.622995     10657.910157\n",
       "3             1.113807      8364.074702\n",
       "4             0.227852      4372.946230\n",
       "..                 ...              ...\n",
       "445          -0.653541       402.367873\n",
       "446          -0.152191      2660.896242\n",
       "447          -0.608140       606.897606\n",
       "448          -0.530379       957.201826\n",
       "449          -0.637345       475.332295\n",
       "\n",
       "[450 rows x 2 columns]"
      ]
     },
     "execution_count": 111,
     "metadata": {},
     "output_type": "execute_result"
    }
   ],
   "source": [
    "df[[\"Z_Discount_Amount\",\"Discount Amount\"]]"
   ]
  },
  {
   "cell_type": "code",
   "execution_count": 113,
   "id": "bd28738b-f30a-429f-9460-b4e918a77286",
   "metadata": {},
   "outputs": [
    {
     "data": {
      "text/plain": [
       "Z_Discount_Amount        4.970494\n",
       "Discount Amount      25738.022194\n",
       "dtype: float64"
      ]
     },
     "execution_count": 113,
     "metadata": {},
     "output_type": "execute_result"
    }
   ],
   "source": [
    "##FINDING MAX AND MIN VALUES in order to observe the ranges of the distributions\n",
    "df[[\"Z_Discount_Amount\",\"Discount Amount\"]].max()"
   ]
  },
  {
   "cell_type": "code",
   "execution_count": 131,
   "id": "689ea29e-b2a9-49df-8031-284ef2f98858",
   "metadata": {},
   "outputs": [
    {
     "data": {
      "text/plain": [
       "Z_Discount_Amount    -0.727503\n",
       "Discount Amount      69.177942\n",
       "dtype: float64"
      ]
     },
     "execution_count": 131,
     "metadata": {},
     "output_type": "execute_result"
    }
   ],
   "source": [
    "df[[\"Z_Discount_Amount\",\"Discount Amount\"]].min()"
   ]
  },
  {
   "cell_type": "code",
   "execution_count": 60,
   "id": "8653de31-e7c9-42c3-abc0-1e929ed87396",
   "metadata": {},
   "outputs": [
    {
     "data": {
      "text/plain": [
       "array([[<Axes: title={'center': 'Z_Discount_Amount'}>,\n",
       "        <Axes: title={'center': 'Discount Amount'}>]], dtype=object)"
      ]
     },
     "execution_count": 60,
     "metadata": {},
     "output_type": "execute_result"
    },
    {
     "data": {
      "image/png": "[encoded data removed]",
      "text/plain": [
       "<Figure size 640x480 with 2 Axes>"
      ]
     },
     "metadata": {},
     "output_type": "display_data"
    }
   ],
   "source": [
    "###to find observations regarding distributions we are constructing histogram\n",
    "df[[\"Z_Discount_Amount\",\"Discount Amount\"]].hist()"
   ]
  },
  {
   "cell_type": "code",
   "execution_count": 117,
   "id": "e0ff8bdf-a36d-4ceb-a322-23dbb4bfb8f6",
   "metadata": {},
   "outputs": [],
   "source": [
    "#Normalization on Net Sales Value Column"
   ]
  },
  {
   "cell_type": "code",
   "execution_count": 62,
   "id": "da0c0e02-5d77-4ae5-ab1d-bca89c59479a",
   "metadata": {},
   "outputs": [
    {
     "data": {
      "text/plain": [
       "0      2.804756\n",
       "1      1.271026\n",
       "2      1.545675\n",
       "3      1.765810\n",
       "4     -0.227595\n",
       "         ...   \n",
       "445   -0.610461\n",
       "446   -0.378500\n",
       "447   -0.601921\n",
       "448   -0.555499\n",
       "449   -0.601239\n",
       "Name: Z_Net_sales_score, Length: 450, dtype: float64"
      ]
     },
     "execution_count": 62,
     "metadata": {},
     "output_type": "execute_result"
    }
   ],
   "source": [
    "#step 6\n",
    "from scipy import stats\n",
    "df[\"Z_Net_sales_score\"]=stats.zscore(df[\"Net Sales Value\"])\n",
    "df[\"Z_Net_sales_score\"]"
   ]
  },
  {
   "cell_type": "code",
   "execution_count": 121,
   "id": "9f2544ee-c655-4f80-a2ba-d3bed5a17bc0",
   "metadata": {},
   "outputs": [
    {
     "data": {
      "text/html": [
       "<div>\n",
       "<style scoped>\n",
       "    .dataframe tbody tr th:only-of-type {\n",
       "        vertical-align: middle;\n",
       "    }\n",
       "\n",
       "    .dataframe tbody tr th {\n",
       "        vertical-align: top;\n",
       "    }\n",
       "\n",
       "    .dataframe thead th {\n",
       "        text-align: right;\n",
       "    }\n",
       "</style>\n",
       "<table border=\"1\" class=\"dataframe\">\n",
       "  <thead>\n",
       "    <tr style=\"text-align: right;\">\n",
       "      <th></th>\n",
       "      <th>Z_Net_sales_score</th>\n",
       "      <th>Net Sales Value</th>\n",
       "    </tr>\n",
       "  </thead>\n",
       "  <tbody>\n",
       "    <tr>\n",
       "      <th>0</th>\n",
       "      <td>2.804756</td>\n",
       "      <td>160346.501180</td>\n",
       "    </tr>\n",
       "    <tr>\n",
       "      <th>1</th>\n",
       "      <td>1.271026</td>\n",
       "      <td>89323.897039</td>\n",
       "    </tr>\n",
       "    <tr>\n",
       "      <th>2</th>\n",
       "      <td>1.545675</td>\n",
       "      <td>102042.089843</td>\n",
       "    </tr>\n",
       "    <tr>\n",
       "      <th>3</th>\n",
       "      <td>1.765810</td>\n",
       "      <td>112235.925298</td>\n",
       "    </tr>\n",
       "    <tr>\n",
       "      <th>4</th>\n",
       "      <td>-0.227595</td>\n",
       "      <td>19927.053770</td>\n",
       "    </tr>\n",
       "    <tr>\n",
       "      <th>...</th>\n",
       "      <td>...</td>\n",
       "      <td>...</td>\n",
       "    </tr>\n",
       "    <tr>\n",
       "      <th>445</th>\n",
       "      <td>-0.610461</td>\n",
       "      <td>2197.632127</td>\n",
       "    </tr>\n",
       "    <tr>\n",
       "      <th>446</th>\n",
       "      <td>-0.378500</td>\n",
       "      <td>12939.103758</td>\n",
       "    </tr>\n",
       "    <tr>\n",
       "      <th>447</th>\n",
       "      <td>-0.601921</td>\n",
       "      <td>2593.102394</td>\n",
       "    </tr>\n",
       "    <tr>\n",
       "      <th>448</th>\n",
       "      <td>-0.555499</td>\n",
       "      <td>4742.798174</td>\n",
       "    </tr>\n",
       "    <tr>\n",
       "      <th>449</th>\n",
       "      <td>-0.601239</td>\n",
       "      <td>2624.667705</td>\n",
       "    </tr>\n",
       "  </tbody>\n",
       "</table>\n",
       "<p>450 rows × 2 columns</p>\n",
       "</div>"
      ],
      "text/plain": [
       "     Z_Net_sales_score  Net Sales Value\n",
       "0             2.804756    160346.501180\n",
       "1             1.271026     89323.897039\n",
       "2             1.545675    102042.089843\n",
       "3             1.765810    112235.925298\n",
       "4            -0.227595     19927.053770\n",
       "..                 ...              ...\n",
       "445          -0.610461      2197.632127\n",
       "446          -0.378500     12939.103758\n",
       "447          -0.601921      2593.102394\n",
       "448          -0.555499      4742.798174\n",
       "449          -0.601239      2624.667705\n",
       "\n",
       "[450 rows x 2 columns]"
      ]
     },
     "execution_count": 121,
     "metadata": {},
     "output_type": "execute_result"
    }
   ],
   "source": [
    "df[[\"Z_Net_sales_score\",\"Net Sales Value\"]]"
   ]
  },
  {
   "cell_type": "code",
   "execution_count": 64,
   "id": "00980e81-15b7-4406-8556-5f5eb74e26b1",
   "metadata": {},
   "outputs": [
    {
     "data": {
      "text/plain": [
       "Z_Net_sales_score         3.218536\n",
       "Net Sales Value      179507.479049\n",
       "dtype: float64"
      ]
     },
     "execution_count": 64,
     "metadata": {},
     "output_type": "execute_result"
    }
   ],
   "source": [
    "##FINDING MAX AND MIN VALUES in order to observe the ranges of the distributions\n",
    "df[[\"Z_Net_sales_score\",\"Net Sales Value\"]].max()"
   ]
  },
  {
   "cell_type": "code",
   "execution_count": 127,
   "id": "30e0fc2d-fb02-4fda-9bdb-ef8c544015ac",
   "metadata": {},
   "outputs": [
    {
     "data": {
      "text/plain": [
       "Z_Net_sales_score     -0.650858\n",
       "Net Sales Value      326.974801\n",
       "dtype: float64"
      ]
     },
     "execution_count": 127,
     "metadata": {},
     "output_type": "execute_result"
    }
   ],
   "source": [
    "df[[\"Z_Net_sales_score\",\"Net Sales Value\"]].min()"
   ]
  },
  {
   "cell_type": "code",
   "execution_count": 66,
   "id": "8282d4f5-a9ea-491c-a348-aebc608c8097",
   "metadata": {},
   "outputs": [
    {
     "data": {
      "text/plain": [
       "array([[<Axes: title={'center': 'Z_Net_sales_score'}>,\n",
       "        <Axes: title={'center': 'Net Sales Value'}>]], dtype=object)"
      ]
     },
     "execution_count": 66,
     "metadata": {},
     "output_type": "execute_result"
    },
    {
     "data": {
      "image/png": "[encoded data removed]",
      "text/plain": [
       "<Figure size 640x480 with 2 Axes>"
      ]
     },
     "metadata": {},
     "output_type": "display_data"
    }
   ],
   "source": [
    "###to find observations regarding distributions we are constructing histogram\n",
    "df[[\"Z_Net_sales_score\",\"Net Sales Value\"]].hist()"
   ]
  },
  {
   "cell_type": "code",
   "execution_count": null,
   "id": "52c87a48-7c52-48b4-a9cc-e43c2dc7ac1d",
   "metadata": {},
   "outputs": [],
   "source": []
  }
 ],
 "metadata": {
  "kernelspec": {
   "display_name": "anaconda-panel-2023.05-py310",
   "language": "python",
   "name": "conda-env-anaconda-panel-2023.05-py310-py"
  },
  "language_info": {
   "codemirror_mode": {
    "name": "ipython",
    "version": 3
   },
   "file_extension": ".py",
   "mimetype": "text/x-python",
   "name": "python",
   "nbconvert_exporter": "python",
   "pygments_lexer": "ipython3",
   "version": "3.11.5"
  }
 },
 "nbformat": 4,
 "nbformat_minor": 5
}
